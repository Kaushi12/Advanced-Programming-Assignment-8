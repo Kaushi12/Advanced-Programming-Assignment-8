{
 "cells": [
  {
   "cell_type": "code",
   "execution_count": 7,
   "id": "b86f1a8d",
   "metadata": {},
   "outputs": [
    {
     "name": "stdout",
     "output_type": "stream",
     "text": [
      "a sudden applause\n",
      "false\n"
     ]
    }
   ],
   "source": [
    "st1=input()\n",
    "a=st1.split()\n",
    "v=['a','e','i','o','u']\n",
    "for i in range(0,len(a)-1):\n",
    "    if (a[i][len(a[i])-1]) in v and a[i+1][0] in v:\n",
    "            print(\"true\")\n",
    "            break\n",
    "else:\n",
    "    print(\"false\")"
   ]
  },
  {
   "cell_type": "code",
   "execution_count": 25,
   "id": "49e64898",
   "metadata": {},
   "outputs": [
    {
     "name": "stdout",
     "output_type": "stream",
     "text": [
      "precarious kangaroos\n",
      "k\n",
      "a\n",
      "False\n"
     ]
    }
   ],
   "source": [
    "sen=input()\n",
    "letter1=input()\n",
    "letter2=input()\n",
    "list1=[i for i, letter in enumerate(sen) if letter == letter1]\n",
    "list2=[i for i, letter in enumerate(sen) if letter == letter2]\n",
    "for j in range(0,len(list1)):\n",
    "    if list1[j]>list2[0]:\n",
    "        print(\"False\")\n",
    "        break\n",
    "else:\n",
    "    print(\"True\")\n"
   ]
  },
  {
   "cell_type": "code",
   "execution_count": 19,
   "id": "80f50cf4",
   "metadata": {},
   "outputs": [],
   "source": [
    "def char_at_pos(l1,s1):\n",
    "    final=[]\n",
    "    if s1==\"odd\":\n",
    "        for i in range(0,len(l1)):\n",
    "            if i%2 ==0:\n",
    "                final.append(l1[i])\n",
    "        if type(l1)==str:\n",
    "            print(''.join(final))\n",
    "        else:\n",
    "            print(final)\n",
    "    elif s1==\"even\":\n",
    "        for j in range(0,len(l1)):\n",
    "            if j%2!=0:\n",
    "                final.append(l1[j])\n",
    "        if type(l1)==str:\n",
    "            print(''.join(final))\n",
    "        else:\n",
    "            print(final)\n",
    "\n",
    "                \n",
    "            "
   ]
  },
  {
   "cell_type": "code",
   "execution_count": 20,
   "id": "6cea25cd",
   "metadata": {},
   "outputs": [
    {
     "name": "stdout",
     "output_type": "stream",
     "text": [
      "[4, 8]\n"
     ]
    }
   ],
   "source": [
    "char_at_pos([2,4,6,8,10],\"even\")"
   ]
  },
  {
   "cell_type": "code",
   "execution_count": 21,
   "id": "f34f0536",
   "metadata": {},
   "outputs": [
    {
     "name": "stdout",
     "output_type": "stream",
     "text": [
      "10\n"
     ]
    }
   ],
   "source": [
    "def find_gcd(x, y):\n",
    "    while(y):\n",
    "        x, y = y, x % y\n",
    "  \n",
    "    return x\n",
    "      \n",
    "      \n",
    "l = [10,20,40]\n",
    "  \n",
    "num1=l[0]\n",
    "num2=l[1]\n",
    "gcd=find_gcd(num1,num2)\n",
    "  \n",
    "for i in range(2,len(l)):\n",
    "    gcd=find_gcd(gcd,l[i])\n",
    "      \n",
    "print(gcd)"
   ]
  },
  {
   "cell_type": "code",
   "execution_count": 12,
   "id": "10c93813",
   "metadata": {},
   "outputs": [],
   "source": [
    "def DecimalToBinary(num):\n",
    "        res=''\n",
    "        if num >= 1:\n",
    "            DecimalToBinary(num // 2)\n",
    "            rem=num%2\n",
    "            res=res+str(rem)\n",
    "        return res"
   ]
  },
  {
   "cell_type": "code",
   "execution_count": 13,
   "id": "9590833c",
   "metadata": {},
   "outputs": [
    {
     "data": {
      "text/plain": [
       "'1'"
      ]
     },
     "execution_count": 13,
     "metadata": {},
     "output_type": "execute_result"
    }
   ],
   "source": [
    "DecimalToBinary(313)"
   ]
  },
  {
   "cell_type": "code",
   "execution_count": null,
   "id": "cc9bbc05",
   "metadata": {},
   "outputs": [],
   "source": []
  }
 ],
 "metadata": {
  "kernelspec": {
   "display_name": "Python 3",
   "language": "python",
   "name": "python3"
  },
  "language_info": {
   "codemirror_mode": {
    "name": "ipython",
    "version": 3
   },
   "file_extension": ".py",
   "mimetype": "text/x-python",
   "name": "python",
   "nbconvert_exporter": "python",
   "pygments_lexer": "ipython3",
   "version": "3.8.8"
  }
 },
 "nbformat": 4,
 "nbformat_minor": 5
}
